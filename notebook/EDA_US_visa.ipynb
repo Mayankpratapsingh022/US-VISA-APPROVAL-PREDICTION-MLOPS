{
 "cells": [
  {
   "cell_type": "markdown",
   "metadata": {},
   "source": [
    "# US Visa Prediction Notebook"
   ]
  },
  {
   "cell_type": "markdown",
   "metadata": {},
   "source": [
    "### About\n",
    "\n",
    "The Immigration and Nationality Act(INA) of the US permits foreign workers to come to the United States to work on either a temporary or permanent basis. The act also protects US workers against adverse impacts on working place and maintain requirements when they hire foreign workers  to fill workforce shortages. The immigration programs are admiistered by the Office of Foreign Labor Certification (OFLC)."
   ]
  },
  {
   "cell_type": "markdown",
   "metadata": {},
   "source": [
    "## 1) Problem statement.\n",
    "\n",
    "* OFLC gives job certification applications for employers seeking to bring foreign workers into the United States and grants certifications. \n",
    "* As In last year the count of employees were huge so OFLC needs Machine learning models to shortlist visa applicants based on their previous data.\n",
    "\n",
    "**In this project we are going to use the data given to build a Classification model:**\n",
    "\n",
    "* This model is to check if Visa get approved or not based on the given dataset.\n",
    "* This can be used to Recommend a suitable profile for the applicants for whom the visa should be certified or denied based on the certain criteria which influences the decision."
   ]
  },
  {
   "cell_type": "markdown",
   "metadata": {},
   "source": [
    "## 2) Data Collection.\n",
    "* The Dataset is part of Office of Foreign Labor Certification (OFLC)\n",
    "* The data consists of 25480 Rows and 12 Columns\n",
    "\n",
    "https://www.kaggle.com/datasets/moro23/easyvisa-dataset"
   ]
  },
  {
   "cell_type": "markdown",
   "metadata": {},
   "source": [
    "### 2.1 Import Data and Required Packages"
   ]
  },
  {
   "cell_type": "markdown",
   "metadata": {},
   "source": [
    "**Importing Pandas, Numpy, Matplotlib, Seaborn and Warings Library.**"
   ]
  },
  {
   "cell_type": "code",
   "execution_count": null,
   "metadata": {},
   "outputs": [],
   "source": [
    "imprt "
   ]
  }
 ],
 "metadata": {
  "kernelspec": {
   "display_name": "visa",
   "language": "python",
   "name": "python3"
  },
  "language_info": {
   "name": "python",
   "version": "3.8.20"
  }
 },
 "nbformat": 4,
 "nbformat_minor": 2
}
